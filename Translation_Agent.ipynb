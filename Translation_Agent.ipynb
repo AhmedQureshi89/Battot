{
  "nbformat": 4,
  "nbformat_minor": 0,
  "metadata": {
    "colab": {
      "provenance": [],
      "authorship_tag": "ABX9TyPyzLb0q89vG88VN/in3gY0",
      "include_colab_link": true
    },
    "kernelspec": {
      "name": "python3",
      "display_name": "Python 3"
    },
    "language_info": {
      "name": "python"
    }
  },
  "cells": [
    {
      "cell_type": "markdown",
      "metadata": {
        "id": "view-in-github",
        "colab_type": "text"
      },
      "source": [
        "<a href=\"https://colab.research.google.com/github/AhmedQureshi89/Battot/blob/main/Translation_Agent.ipynb\" target=\"_parent\"><img src=\"https://colab.research.google.com/assets/colab-badge.svg\" alt=\"Open In Colab\"/></a>"
      ]
    },
    {
      "cell_type": "code",
      "execution_count": 1,
      "metadata": {
        "colab": {
          "base_uri": "https://localhost:8080/"
        },
        "id": "6SNitVqHx4Lk",
        "outputId": "767bc4f5-eb3d-4bc1-f4a1-a9f7169db3de"
      },
      "outputs": [
        {
          "output_type": "stream",
          "name": "stdout",
          "text": [
            "Collecting groq\n",
            "  Downloading groq-0.9.0-py3-none-any.whl.metadata (13 kB)\n",
            "Requirement already satisfied: anyio<5,>=3.5.0 in /usr/local/lib/python3.10/dist-packages (from groq) (3.7.1)\n",
            "Requirement already satisfied: distro<2,>=1.7.0 in /usr/lib/python3/dist-packages (from groq) (1.7.0)\n",
            "Collecting httpx<1,>=0.23.0 (from groq)\n",
            "  Downloading httpx-0.27.0-py3-none-any.whl.metadata (7.2 kB)\n",
            "Requirement already satisfied: pydantic<3,>=1.9.0 in /usr/local/lib/python3.10/dist-packages (from groq) (2.8.2)\n",
            "Requirement already satisfied: sniffio in /usr/local/lib/python3.10/dist-packages (from groq) (1.3.1)\n",
            "Requirement already satisfied: typing-extensions<5,>=4.7 in /usr/local/lib/python3.10/dist-packages (from groq) (4.12.2)\n",
            "Requirement already satisfied: idna>=2.8 in /usr/local/lib/python3.10/dist-packages (from anyio<5,>=3.5.0->groq) (3.7)\n",
            "Requirement already satisfied: exceptiongroup in /usr/local/lib/python3.10/dist-packages (from anyio<5,>=3.5.0->groq) (1.2.2)\n",
            "Requirement already satisfied: certifi in /usr/local/lib/python3.10/dist-packages (from httpx<1,>=0.23.0->groq) (2024.7.4)\n",
            "Collecting httpcore==1.* (from httpx<1,>=0.23.0->groq)\n",
            "  Downloading httpcore-1.0.5-py3-none-any.whl.metadata (20 kB)\n",
            "Collecting h11<0.15,>=0.13 (from httpcore==1.*->httpx<1,>=0.23.0->groq)\n",
            "  Downloading h11-0.14.0-py3-none-any.whl.metadata (8.2 kB)\n",
            "Requirement already satisfied: annotated-types>=0.4.0 in /usr/local/lib/python3.10/dist-packages (from pydantic<3,>=1.9.0->groq) (0.7.0)\n",
            "Requirement already satisfied: pydantic-core==2.20.1 in /usr/local/lib/python3.10/dist-packages (from pydantic<3,>=1.9.0->groq) (2.20.1)\n",
            "Downloading groq-0.9.0-py3-none-any.whl (103 kB)\n",
            "\u001b[2K   \u001b[90m━━━━━━━━━━━━━━━━━━━━━━━━━━━━━━━━━━━━━━━━\u001b[0m \u001b[32m103.5/103.5 kB\u001b[0m \u001b[31m3.7 MB/s\u001b[0m eta \u001b[36m0:00:00\u001b[0m\n",
            "\u001b[?25hDownloading httpx-0.27.0-py3-none-any.whl (75 kB)\n",
            "\u001b[2K   \u001b[90m━━━━━━━━━━━━━━━━━━━━━━━━━━━━━━━━━━━━━━━━\u001b[0m \u001b[32m75.6/75.6 kB\u001b[0m \u001b[31m4.1 MB/s\u001b[0m eta \u001b[36m0:00:00\u001b[0m\n",
            "\u001b[?25hDownloading httpcore-1.0.5-py3-none-any.whl (77 kB)\n",
            "\u001b[2K   \u001b[90m━━━━━━━━━━━━━━━━━━━━━━━━━━━━━━━━━━━━━━━━\u001b[0m \u001b[32m77.9/77.9 kB\u001b[0m \u001b[31m3.5 MB/s\u001b[0m eta \u001b[36m0:00:00\u001b[0m\n",
            "\u001b[?25hDownloading h11-0.14.0-py3-none-any.whl (58 kB)\n",
            "\u001b[2K   \u001b[90m━━━━━━━━━━━━━━━━━━━━━━━━━━━━━━━━━━━━━━━━\u001b[0m \u001b[32m58.3/58.3 kB\u001b[0m \u001b[31m1.4 MB/s\u001b[0m eta \u001b[36m0:00:00\u001b[0m\n",
            "\u001b[?25hInstalling collected packages: h11, httpcore, httpx, groq\n",
            "Successfully installed groq-0.9.0 h11-0.14.0 httpcore-1.0.5 httpx-0.27.0\n"
          ]
        }
      ],
      "source": [
        "!pip install groq\n"
      ]
    },
    {
      "cell_type": "code",
      "source": [
        "!pip install transformers"
      ],
      "metadata": {
        "colab": {
          "base_uri": "https://localhost:8080/"
        },
        "id": "9j5jv9nly1e8",
        "outputId": "32771976-0605-499a-a0ff-8b9a4c62da43"
      },
      "execution_count": 2,
      "outputs": [
        {
          "output_type": "stream",
          "name": "stdout",
          "text": [
            "Requirement already satisfied: transformers in /usr/local/lib/python3.10/dist-packages (4.42.4)\n",
            "Requirement already satisfied: filelock in /usr/local/lib/python3.10/dist-packages (from transformers) (3.15.4)\n",
            "Requirement already satisfied: huggingface-hub<1.0,>=0.23.2 in /usr/local/lib/python3.10/dist-packages (from transformers) (0.23.5)\n",
            "Requirement already satisfied: numpy<2.0,>=1.17 in /usr/local/lib/python3.10/dist-packages (from transformers) (1.26.4)\n",
            "Requirement already satisfied: packaging>=20.0 in /usr/local/lib/python3.10/dist-packages (from transformers) (24.1)\n",
            "Requirement already satisfied: pyyaml>=5.1 in /usr/local/lib/python3.10/dist-packages (from transformers) (6.0.1)\n",
            "Requirement already satisfied: regex!=2019.12.17 in /usr/local/lib/python3.10/dist-packages (from transformers) (2024.5.15)\n",
            "Requirement already satisfied: requests in /usr/local/lib/python3.10/dist-packages (from transformers) (2.31.0)\n",
            "Requirement already satisfied: safetensors>=0.4.1 in /usr/local/lib/python3.10/dist-packages (from transformers) (0.4.3)\n",
            "Requirement already satisfied: tokenizers<0.20,>=0.19 in /usr/local/lib/python3.10/dist-packages (from transformers) (0.19.1)\n",
            "Requirement already satisfied: tqdm>=4.27 in /usr/local/lib/python3.10/dist-packages (from transformers) (4.66.4)\n",
            "Requirement already satisfied: fsspec>=2023.5.0 in /usr/local/lib/python3.10/dist-packages (from huggingface-hub<1.0,>=0.23.2->transformers) (2024.6.1)\n",
            "Requirement already satisfied: typing-extensions>=3.7.4.3 in /usr/local/lib/python3.10/dist-packages (from huggingface-hub<1.0,>=0.23.2->transformers) (4.12.2)\n",
            "Requirement already satisfied: charset-normalizer<4,>=2 in /usr/local/lib/python3.10/dist-packages (from requests->transformers) (3.3.2)\n",
            "Requirement already satisfied: idna<4,>=2.5 in /usr/local/lib/python3.10/dist-packages (from requests->transformers) (3.7)\n",
            "Requirement already satisfied: urllib3<3,>=1.21.1 in /usr/local/lib/python3.10/dist-packages (from requests->transformers) (2.0.7)\n",
            "Requirement already satisfied: certifi>=2017.4.17 in /usr/local/lib/python3.10/dist-packages (from requests->transformers) (2024.7.4)\n"
          ]
        }
      ]
    },
    {
      "cell_type": "code",
      "source": [
        "import os\n",
        "import groq\n",
        "\n",
        "from transformers import AutoTokenizer, AutoModelForCausalLM"
      ],
      "metadata": {
        "id": "3qfY5zDty8F6"
      },
      "execution_count": 8,
      "outputs": []
    },
    {
      "cell_type": "code",
      "source": [
        "from google.colab import userdata\n",
        "os.environ[\"GROQ_API_KEY\"] = \"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\""
      ],
      "metadata": {
        "id": "idCQjfwbzFD_"
      },
      "execution_count": 11,
      "outputs": []
    },
    {
      "cell_type": "code",
      "source": [
        "client = groq.Groq()"
      ],
      "metadata": {
        "id": "wkJMFxt70yOR"
      },
      "execution_count": 12,
      "outputs": []
    },
    {
      "cell_type": "code",
      "source": [
        "llama3_bB_8192 = \"llama3-70b-8192\"\n",
        "llama3_1_70B_versatile = \"llama3.1_70B_versatile\"\n",
        "\n"
      ],
      "metadata": {
        "id": "2PLxN9GJ2ie4"
      },
      "execution_count": 36,
      "outputs": []
    },
    {
      "cell_type": "code",
      "source": [
        "def generate_text(prompt, max_tokens=100):\n",
        "    chat_completion = client.chat.completions.create(\n",
        "        messages=[\n",
        "            {\n",
        "                \"role\": \"user\",\n",
        "                \"content\": prompt,\n",
        "            }\n",
        "        ],\n",
        "        model= llama3_bB_8192,\n",
        "        max_tokens=max_tokens,\n",
        "    )\n",
        "    return chat_completion.choices[0].message.content"
      ],
      "metadata": {
        "id": "CmQ5N4wu030c"
      },
      "execution_count": 26,
      "outputs": []
    },
    {
      "cell_type": "code",
      "source": [
        "def translation_agent(text, source_lang, target_lang, temperature=0.7):\n",
        "    system_prompt = \"\"\"You are a multilingual translation agent. Your task is to:\n",
        "    1. Identify the language of the input text if not specified.\n",
        "    2. Translate the text to the target language.\n",
        "    3. Provide a brief explanation of any idiomatic expressions or cultural nuances in the translation.\n",
        "    \"\"\"\n",
        "\n",
        "    user_prompt = f\"\"\"Source language: {source_lang if source_lang else 'Unknown (please identify)'}\n",
        "    Target language: {target_lang}\n",
        "    Text to translate: {text}\n",
        "\n",
        "    Please provide:\n",
        "    1. The translation\n",
        "    2. A brief explanation of any interesting translation choices or cultural nuances\n",
        "    \"\"\"\n",
        "\n",
        "    chat_completion = client.chat.completions.create(\n",
        "        messages=[\n",
        "            {\"role\": \"system\", \"content\": system_prompt},\n",
        "            {\"role\": \"user\", \"content\": user_prompt}\n",
        "        ],\n",
        "        model= llama3_bB_8192,\n",
        "        max_tokens=1000,\n",
        "        temperature=temperature\n",
        "    )\n",
        "    return chat_completion.choices[0].message.content.strip()"
      ],
      "metadata": {
        "id": "Ppw_qPjK3Cyi"
      },
      "execution_count": 48,
      "outputs": []
    },
    {
      "cell_type": "code",
      "source": [
        "# Test the translation agent with different parameters\n",
        "text_to_translate = \"Break a leg!\"\n",
        "source_lang = \"English\"\n",
        "target_lang = \"عربي\"\n",
        "\n",
        "# More focused translation\n",
        "focused_result = translation_agent(text_to_translate, source_lang, target_lang, temperature=0.3)\n",
        "print(\"Focused Translation:\")\n",
        "print(focused_result)\n",
        "print(\"\\n\" + \"=\"*50 + \"\\n\")\n",
        "\n",
        "# More creative translation\n",
        "creative_result = translation_agent(text_to_translate, source_lang, target_lang, temperature=0.9)\n",
        "print(\"Creative Translation:\")\n",
        "print(creative_result)"
      ],
      "metadata": {
        "colab": {
          "base_uri": "https://localhost:8080/"
        },
        "id": "BUlQ8wzj3JYn",
        "outputId": "3a98a741-1d1b-4beb-f7c4-0b8989fb2dc2"
      },
      "execution_count": 49,
      "outputs": [
        {
          "output_type": "stream",
          "name": "stdout",
          "text": [
            "Focused Translation:\n",
            "Here is the translation:\n",
            "\n",
            "1. Translation: كل التوفيق! (Kul al-tawfiq!)\n",
            "\n",
            "2. Explanation: The idiomatic expression \"Break a leg!\" is a common English phrase used to wish someone good luck, especially before a performance or a challenging situation. In Arabic, the literal translation of \"Break a leg!\" doesn't convey the same meaning, so a more culturally equivalent phrase is used.\n",
            "\n",
            "The translation \"كل التوفيق!\" (Kul al-tawfiq!) is a common Arabic expression that means \"Good luck!\" or \"All the best!\" It is often used to wish someone success or good fortune in a specific situation. This phrase is more formal than the English expression, but it conveys a similar sentiment.\n",
            "\n",
            "In Arabic culture, it's common to use phrases that invoke blessings or good fortune, rather than using a literal translation of the English idiom. This translation choice ensures that the cultural nuance and intent behind the original phrase are preserved, while also being more relatable and understandable to Arabic speakers.\n",
            "\n",
            "==================================================\n",
            "\n",
            "Creative Translation:\n",
            "Here is the translation:\n",
            "\n",
            "**Translation:** كلّ الطاقَةً! (Kul al-taqah!)\n",
            "\n",
            "**Explanation:** The idiomatic expression \"Break a leg!\" is a common English phrase used to wish someone good luck, especially in the context of performing arts or public speaking. In Arabic, a direct translation would not convey the same meaning, so I opted for a phrase that conveys a similar sentiment.\n",
            "\n",
            "The translation \"كلّ الطاقَةً!\" (Kul al-taqah!) is a common Arabic phrase that means \"All the best!\" or \"Good luck!\" It is often used to express support and encouragement, especially in situations where someone is about to undertake a challenging task or perform in front of an audience.\n",
            "\n",
            "Interestingly, there's no direct equivalent to \"Break a leg!\" in Arabic, as the phrase is deeply rooted in Western cultural tradition. However, the phrase \"kul al-taqah\" is widely understood and used in Arabic-speaking countries, making it a suitable translation that conveys a similar sense of encouragement and support.\n"
          ]
        }
      ]
    }
  ]
}