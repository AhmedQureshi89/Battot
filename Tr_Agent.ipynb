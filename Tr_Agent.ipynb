{
  "nbformat": 4,
  "nbformat_minor": 0,
  "metadata": {
    "colab": {
      "provenance": [],
      "authorship_tag": "ABX9TyNTURVlJilyq2Bhe22EgoZi",
      "include_colab_link": true
    },
    "kernelspec": {
      "name": "python3",
      "display_name": "Python 3"
    },
    "language_info": {
      "name": "python"
    }
  },
  "cells": [
    {
      "cell_type": "markdown",
      "metadata": {
        "id": "view-in-github",
        "colab_type": "text"
      },
      "source": [
        "<a href=\"https://colab.research.google.com/github/AhmedQureshi89/Battot/blob/main/Tr_Agent.ipynb\" target=\"_parent\"><img src=\"https://colab.research.google.com/assets/colab-badge.svg\" alt=\"Open In Colab\"/></a>"
      ]
    },
    {
      "cell_type": "code",
      "execution_count": 1,
      "metadata": {
        "colab": {
          "base_uri": "https://localhost:8080/",
          "height": 0
        },
        "collapsed": true,
        "id": "6SNitVqHx4Lk",
        "outputId": "767bc4f5-eb3d-4bc1-f4a1-a9f7169db3de"
      },
      "outputs": [
        {
          "output_type": "stream",
          "name": "stdout",
          "text": [
            "Collecting groq\n",
            "  Downloading groq-0.9.0-py3-none-any.whl.metadata (13 kB)\n",
            "Requirement already satisfied: anyio<5,>=3.5.0 in /usr/local/lib/python3.10/dist-packages (from groq) (3.7.1)\n",
            "Requirement already satisfied: distro<2,>=1.7.0 in /usr/lib/python3/dist-packages (from groq) (1.7.0)\n",
            "Collecting httpx<1,>=0.23.0 (from groq)\n",
            "  Downloading httpx-0.27.0-py3-none-any.whl.metadata (7.2 kB)\n",
            "Requirement already satisfied: pydantic<3,>=1.9.0 in /usr/local/lib/python3.10/dist-packages (from groq) (2.8.2)\n",
            "Requirement already satisfied: sniffio in /usr/local/lib/python3.10/dist-packages (from groq) (1.3.1)\n",
            "Requirement already satisfied: typing-extensions<5,>=4.7 in /usr/local/lib/python3.10/dist-packages (from groq) (4.12.2)\n",
            "Requirement already satisfied: idna>=2.8 in /usr/local/lib/python3.10/dist-packages (from anyio<5,>=3.5.0->groq) (3.7)\n",
            "Requirement already satisfied: exceptiongroup in /usr/local/lib/python3.10/dist-packages (from anyio<5,>=3.5.0->groq) (1.2.2)\n",
            "Requirement already satisfied: certifi in /usr/local/lib/python3.10/dist-packages (from httpx<1,>=0.23.0->groq) (2024.7.4)\n",
            "Collecting httpcore==1.* (from httpx<1,>=0.23.0->groq)\n",
            "  Downloading httpcore-1.0.5-py3-none-any.whl.metadata (20 kB)\n",
            "Collecting h11<0.15,>=0.13 (from httpcore==1.*->httpx<1,>=0.23.0->groq)\n",
            "  Downloading h11-0.14.0-py3-none-any.whl.metadata (8.2 kB)\n",
            "Requirement already satisfied: annotated-types>=0.4.0 in /usr/local/lib/python3.10/dist-packages (from pydantic<3,>=1.9.0->groq) (0.7.0)\n",
            "Requirement already satisfied: pydantic-core==2.20.1 in /usr/local/lib/python3.10/dist-packages (from pydantic<3,>=1.9.0->groq) (2.20.1)\n",
            "Downloading groq-0.9.0-py3-none-any.whl (103 kB)\n",
            "\u001b[2K   \u001b[90m━━━━━━━━━━━━━━━━━━━━━━━━━━━━━━━━━━━━━━━━\u001b[0m \u001b[32m103.5/103.5 kB\u001b[0m \u001b[31m3.7 MB/s\u001b[0m eta \u001b[36m0:00:00\u001b[0m\n",
            "\u001b[?25hDownloading httpx-0.27.0-py3-none-any.whl (75 kB)\n",
            "\u001b[2K   \u001b[90m━━━━━━━━━━━━━━━━━━━━━━━━━━━━━━━━━━━━━━━━\u001b[0m \u001b[32m75.6/75.6 kB\u001b[0m \u001b[31m4.1 MB/s\u001b[0m eta \u001b[36m0:00:00\u001b[0m\n",
            "\u001b[?25hDownloading httpcore-1.0.5-py3-none-any.whl (77 kB)\n",
            "\u001b[2K   \u001b[90m━━━━━━━━━━━━━━━━━━━━━━━━━━━━━━━━━━━━━━━━\u001b[0m \u001b[32m77.9/77.9 kB\u001b[0m \u001b[31m3.5 MB/s\u001b[0m eta \u001b[36m0:00:00\u001b[0m\n",
            "\u001b[?25hDownloading h11-0.14.0-py3-none-any.whl (58 kB)\n",
            "\u001b[2K   \u001b[90m━━━━━━━━━━━━━━━━━━━━━━━━━━━━━━━━━━━━━━━━\u001b[0m \u001b[32m58.3/58.3 kB\u001b[0m \u001b[31m1.4 MB/s\u001b[0m eta \u001b[36m0:00:00\u001b[0m\n",
            "\u001b[?25hInstalling collected packages: h11, httpcore, httpx, groq\n",
            "Successfully installed groq-0.9.0 h11-0.14.0 httpcore-1.0.5 httpx-0.27.0\n"
          ]
        }
      ],
      "source": [
        "!pip install groq\n"
      ]
    },
    {
      "cell_type": "code",
      "source": [
        "!pip install transformers"
      ],
      "metadata": {
        "colab": {
          "base_uri": "https://localhost:8080/",
          "height": 0
        },
        "collapsed": true,
        "id": "9j5jv9nly1e8",
        "outputId": "2665d455-771a-4497-f346-68ca0e1b70c5"
      },
      "execution_count": 69,
      "outputs": [
        {
          "output_type": "stream",
          "name": "stdout",
          "text": [
            "Requirement already satisfied: transformers in /usr/local/lib/python3.10/dist-packages (4.42.4)\n",
            "Requirement already satisfied: filelock in /usr/local/lib/python3.10/dist-packages (from transformers) (3.15.4)\n",
            "Requirement already satisfied: huggingface-hub<1.0,>=0.23.2 in /usr/local/lib/python3.10/dist-packages (from transformers) (0.23.5)\n",
            "Requirement already satisfied: numpy<2.0,>=1.17 in /usr/local/lib/python3.10/dist-packages (from transformers) (1.26.4)\n",
            "Requirement already satisfied: packaging>=20.0 in /usr/local/lib/python3.10/dist-packages (from transformers) (24.1)\n",
            "Requirement already satisfied: pyyaml>=5.1 in /usr/local/lib/python3.10/dist-packages (from transformers) (6.0.1)\n",
            "Requirement already satisfied: regex!=2019.12.17 in /usr/local/lib/python3.10/dist-packages (from transformers) (2024.5.15)\n",
            "Requirement already satisfied: requests in /usr/local/lib/python3.10/dist-packages (from transformers) (2.31.0)\n",
            "Requirement already satisfied: safetensors>=0.4.1 in /usr/local/lib/python3.10/dist-packages (from transformers) (0.4.3)\n",
            "Requirement already satisfied: tokenizers<0.20,>=0.19 in /usr/local/lib/python3.10/dist-packages (from transformers) (0.19.1)\n",
            "Requirement already satisfied: tqdm>=4.27 in /usr/local/lib/python3.10/dist-packages (from transformers) (4.66.4)\n",
            "Requirement already satisfied: fsspec>=2023.5.0 in /usr/local/lib/python3.10/dist-packages (from huggingface-hub<1.0,>=0.23.2->transformers) (2024.6.1)\n",
            "Requirement already satisfied: typing-extensions>=3.7.4.3 in /usr/local/lib/python3.10/dist-packages (from huggingface-hub<1.0,>=0.23.2->transformers) (4.12.2)\n",
            "Requirement already satisfied: charset-normalizer<4,>=2 in /usr/local/lib/python3.10/dist-packages (from requests->transformers) (3.3.2)\n",
            "Requirement already satisfied: idna<4,>=2.5 in /usr/local/lib/python3.10/dist-packages (from requests->transformers) (3.7)\n",
            "Requirement already satisfied: urllib3<3,>=1.21.1 in /usr/local/lib/python3.10/dist-packages (from requests->transformers) (2.0.7)\n",
            "Requirement already satisfied: certifi>=2017.4.17 in /usr/local/lib/python3.10/dist-packages (from requests->transformers) (2024.7.4)\n"
          ]
        }
      ]
    },
    {
      "cell_type": "code",
      "source": [
        "import os\n",
        "import groq\n",
        "!pip install transformers torch\n",
        "\n",
        "from transformers import AutoTokenizer, AutoModelForCausalLM\n"
      ],
      "metadata": {
        "colab": {
          "base_uri": "https://localhost:8080/",
          "height": 0
        },
        "collapsed": true,
        "id": "3qfY5zDty8F6",
        "outputId": "a256214d-171d-4ec7-abc8-2f6f067d27b1"
      },
      "execution_count": 70,
      "outputs": [
        {
          "output_type": "stream",
          "name": "stdout",
          "text": [
            "Requirement already satisfied: transformers in /usr/local/lib/python3.10/dist-packages (4.42.4)\n",
            "Requirement already satisfied: torch in /usr/local/lib/python3.10/dist-packages (2.3.1+cu121)\n",
            "Requirement already satisfied: filelock in /usr/local/lib/python3.10/dist-packages (from transformers) (3.15.4)\n",
            "Requirement already satisfied: huggingface-hub<1.0,>=0.23.2 in /usr/local/lib/python3.10/dist-packages (from transformers) (0.23.5)\n",
            "Requirement already satisfied: numpy<2.0,>=1.17 in /usr/local/lib/python3.10/dist-packages (from transformers) (1.26.4)\n",
            "Requirement already satisfied: packaging>=20.0 in /usr/local/lib/python3.10/dist-packages (from transformers) (24.1)\n",
            "Requirement already satisfied: pyyaml>=5.1 in /usr/local/lib/python3.10/dist-packages (from transformers) (6.0.1)\n",
            "Requirement already satisfied: regex!=2019.12.17 in /usr/local/lib/python3.10/dist-packages (from transformers) (2024.5.15)\n",
            "Requirement already satisfied: requests in /usr/local/lib/python3.10/dist-packages (from transformers) (2.31.0)\n",
            "Requirement already satisfied: safetensors>=0.4.1 in /usr/local/lib/python3.10/dist-packages (from transformers) (0.4.3)\n",
            "Requirement already satisfied: tokenizers<0.20,>=0.19 in /usr/local/lib/python3.10/dist-packages (from transformers) (0.19.1)\n",
            "Requirement already satisfied: tqdm>=4.27 in /usr/local/lib/python3.10/dist-packages (from transformers) (4.66.4)\n",
            "Requirement already satisfied: typing-extensions>=4.8.0 in /usr/local/lib/python3.10/dist-packages (from torch) (4.12.2)\n",
            "Requirement already satisfied: sympy in /usr/local/lib/python3.10/dist-packages (from torch) (1.13.1)\n",
            "Requirement already satisfied: networkx in /usr/local/lib/python3.10/dist-packages (from torch) (3.3)\n",
            "Requirement already satisfied: jinja2 in /usr/local/lib/python3.10/dist-packages (from torch) (3.1.4)\n",
            "Requirement already satisfied: fsspec in /usr/local/lib/python3.10/dist-packages (from torch) (2024.6.1)\n",
            "Requirement already satisfied: nvidia-cuda-nvrtc-cu12==12.1.105 in /usr/local/lib/python3.10/dist-packages (from torch) (12.1.105)\n",
            "Requirement already satisfied: nvidia-cuda-runtime-cu12==12.1.105 in /usr/local/lib/python3.10/dist-packages (from torch) (12.1.105)\n",
            "Requirement already satisfied: nvidia-cuda-cupti-cu12==12.1.105 in /usr/local/lib/python3.10/dist-packages (from torch) (12.1.105)\n",
            "Requirement already satisfied: nvidia-cudnn-cu12==8.9.2.26 in /usr/local/lib/python3.10/dist-packages (from torch) (8.9.2.26)\n",
            "Requirement already satisfied: nvidia-cublas-cu12==12.1.3.1 in /usr/local/lib/python3.10/dist-packages (from torch) (12.1.3.1)\n",
            "Requirement already satisfied: nvidia-cufft-cu12==11.0.2.54 in /usr/local/lib/python3.10/dist-packages (from torch) (11.0.2.54)\n",
            "Requirement already satisfied: nvidia-curand-cu12==10.3.2.106 in /usr/local/lib/python3.10/dist-packages (from torch) (10.3.2.106)\n",
            "Requirement already satisfied: nvidia-cusolver-cu12==11.4.5.107 in /usr/local/lib/python3.10/dist-packages (from torch) (11.4.5.107)\n",
            "Requirement already satisfied: nvidia-cusparse-cu12==12.1.0.106 in /usr/local/lib/python3.10/dist-packages (from torch) (12.1.0.106)\n",
            "Requirement already satisfied: nvidia-nccl-cu12==2.20.5 in /usr/local/lib/python3.10/dist-packages (from torch) (2.20.5)\n",
            "Requirement already satisfied: nvidia-nvtx-cu12==12.1.105 in /usr/local/lib/python3.10/dist-packages (from torch) (12.1.105)\n",
            "Requirement already satisfied: triton==2.3.1 in /usr/local/lib/python3.10/dist-packages (from torch) (2.3.1)\n",
            "Requirement already satisfied: nvidia-nvjitlink-cu12 in /usr/local/lib/python3.10/dist-packages (from nvidia-cusolver-cu12==11.4.5.107->torch) (12.5.82)\n",
            "Requirement already satisfied: MarkupSafe>=2.0 in /usr/local/lib/python3.10/dist-packages (from jinja2->torch) (2.1.5)\n",
            "Requirement already satisfied: charset-normalizer<4,>=2 in /usr/local/lib/python3.10/dist-packages (from requests->transformers) (3.3.2)\n",
            "Requirement already satisfied: idna<4,>=2.5 in /usr/local/lib/python3.10/dist-packages (from requests->transformers) (3.7)\n",
            "Requirement already satisfied: urllib3<3,>=1.21.1 in /usr/local/lib/python3.10/dist-packages (from requests->transformers) (2.0.7)\n",
            "Requirement already satisfied: certifi>=2017.4.17 in /usr/local/lib/python3.10/dist-packages (from requests->transformers) (2024.7.4)\n",
            "Requirement already satisfied: mpmath<1.4,>=1.1.0 in /usr/local/lib/python3.10/dist-packages (from sympy->torch) (1.3.0)\n"
          ]
        }
      ]
    },
    {
      "cell_type": "code",
      "source": [
        "from google.colab import userdata\n",
        "os.environ[\"GROQ_API_KEY\"] = \"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\""
      ],
      "metadata": {
        "id": "idCQjfwbzFD_"
      },
      "execution_count": 71,
      "outputs": []
    },
    {
      "cell_type": "code",
      "source": [
        "client = groq.Groq()"
      ],
      "metadata": {
        "id": "wkJMFxt70yOR"
      },
      "execution_count": 72,
      "outputs": []
    },
    {
      "cell_type": "code",
      "source": [
        "llama3_bB_8192 = \"llama3-70b-8192\"\n",
        "llama3_1_70B_versatile = \"llama3.1_70B_versatile\"\n",
        "\n"
      ],
      "metadata": {
        "collapsed": true,
        "id": "2PLxN9GJ2ie4"
      },
      "execution_count": 84,
      "outputs": []
    },
    {
      "cell_type": "code",
      "source": [
        "def generate_text(prompt, max_tokens=100):\n",
        "    chat_completion = client.chat.completions.create(\n",
        "        messages=[\n",
        "            {\n",
        "                \"role\": \"user\",\n",
        "                \"content\": prompt,\n",
        "            }\n",
        "        ],\n",
        "        model= llama3_bB_8192,\n",
        "        max_tokens=max_tokens,\n",
        "    )\n",
        "    return chat_completion.choices[0].message.content"
      ],
      "metadata": {
        "id": "CmQ5N4wu030c"
      },
      "execution_count": 85,
      "outputs": []
    },
    {
      "cell_type": "code",
      "source": [
        "def translation_agent(text, source_lang, target_lang, temperature=0.7):\n",
        "    system_prompt = \"\"\"You are a multilingual translation agent. Your task is to:\n",
        "    1. Identify the language of the input text if not specified.\n",
        "    2. Translate the text to the target language.\n",
        "    3. Provide a brief explanation of any idiomatic expressions or cultural nuances in the translation.\n",
        "    \"\"\"\n",
        "\n",
        "    user_prompt = f\"\"\"Source language: {source_lang if source_lang else 'Unknown (please identify)'}\n",
        "    Target language: {target_lang}\n",
        "    Text to translate: {text}\n",
        "\n",
        "    Please provide:\n",
        "    1. The translation\n",
        "    2. A brief explanation of any interesting translation choices or cultural nuances\n",
        "    \"\"\"\n",
        "\n",
        "    chat_completion = client.chat.completions.create(\n",
        "        messages=[\n",
        "            {\"role\": \"system\", \"content\": system_prompt},\n",
        "            {\"role\": \"user\", \"content\": user_prompt}\n",
        "        ],\n",
        "        model= llama3_bB_8192,\n",
        "        max_tokens=1000,\n",
        "        temperature=temperature\n",
        "    )\n",
        "    return chat_completion.choices[0].message.content.strip()"
      ],
      "metadata": {
        "id": "Ppw_qPjK3Cyi"
      },
      "execution_count": 100,
      "outputs": []
    },
    {
      "cell_type": "code",
      "source": [
        "# Test the translation agent with different parameters\n",
        "text_to_translate = \"Break a leg!\"\n",
        "source_lang = \"English\"\n",
        "target_lang = \"عربي\"\n",
        "\n",
        "# More focused translation\n",
        "focused_result = translation_agent(text_to_translate, source_lang, target_lang, temperature=0.3)\n",
        "print(\"Focused Translation:\")\n",
        "print(focused_result)\n",
        "print(\"\\n\" + \"=\"*50 + \"\\n\")\n",
        "\n",
        "# More creative translation\n",
        "creative_result = translation_agent(text_to_translate, source_lang, target_lang, temperature=0.9)\n",
        "print(\"Creative Translation:\")\n",
        "print(creative_result)"
      ],
      "metadata": {
        "colab": {
          "base_uri": "https://localhost:8080/"
        },
        "id": "BUlQ8wzj3JYn",
        "outputId": "f9ff6597-2f85-4363-b3f9-7f3728448949"
      },
      "execution_count": 101,
      "outputs": [
        {
          "output_type": "stream",
          "name": "stdout",
          "text": [
            "Focused Translation:\n",
            "Here's the translation:\n",
            "\n",
            "**Translation:** كلّ الحظ السعيد لك! (Kul al-ḥaẓ al-saʿīd lak!)\n",
            "\n",
            "**Explanation:** The idiomatic expression \"Break a leg!\" is a common English phrase used to wish someone good luck, especially before a performance or a challenging situation. In Arabic, the literal translation of \"Break a leg!\" wouldn't make sense, so I opted for a more culturally equivalent phrase that conveys the same sentiment.\n",
            "\n",
            "The translation \"كلّ الحظ السعيد لك!\" (Kul al-ḥaẓ al-saʿīd lak!) is a common Arabic expression that means \"All the best luck to you!\" or \"Good luck to you!\" The phrase is often used in similar contexts, such as before an exam, a job interview, or a performance.\n",
            "\n",
            "In Arabic culture, it's customary to express good wishes and blessings to others, especially in situations where they might need an extra boost of confidence or luck. This translation choice aims to preserve the spirit of the original phrase while adapting it to the cultural nuances of the Arabic language.\n",
            "\n",
            "==================================================\n",
            "\n",
            "Creative Translation:\n",
            "**Translation:**\n",
            "كسر ساقك! (Kasir saqak!)\n",
            "\n",
            "**Explanation:**\n",
            "The English idiom \"Break a leg!\" is a well-known expression that means \"Good luck!\" However, it's essential to note that a direct translation might not convey the same meaning in Arabic. In Arabic culture, it's common to use phrases that express good wishes, but \"Break a leg!\" might be perceived as harsh or even violent.\n",
            "\n",
            "To ensure a more accurate and culturally sensitive translation, I chose a phrase that conveys a similar sentiment while being more idiomatic in Arabic. \"كسر ساقك!\" (Kasir saqak!) literally means \"Break your leg!\" but is used to express good luck, similar to the English idiom. This phrase is commonly used in Arabic-speaking countries, especially in theatrical or performance contexts, to wish someone success.\n",
            "\n",
            "In Arabic, the phrase is often used in a more playful or lighthearted tone, which helps to mitigate any potential negative connotations. This translation choice allows the Arabic speaker to understand the intended meaning of the phrase, while also respecting the cultural nuances and idiomatic expressions of the target language.\n"
          ]
        }
      ]
    },
    {
      "cell_type": "code",
      "source": [
        "def generate_text(prompt, max_length=100):\n",
        "    inputs = tokenizer(prompt, return_tensors=\"pt\")\n",
        "    outputs = model.generate(inputs.input_ids, max_length=max_length, num_return_sequences=1)\n",
        "    return tokenizer.decode(outputs[0], skip_special_tokens=True)\n",
        "\n",
        "def translate_text(text,source_lang, target_language):\n",
        "\n",
        "    translated_text = translation_agent(text, source_lang, target_lang, temperature=0.3)\n",
        "    return translated_text\n",
        "\n",
        "def self_assess_translation(original_text, translated_text, target_language):\n",
        "\n",
        "\n",
        "    system_prompt = \"\"\"You are translation quality controll agent. Your task is to:\n",
        "    1. Assess the translation and identify any potential doubts or areas of uncertainty.\n",
        "    \"\"\"\n",
        "\n",
        "    user_prompt = f\"\"\"original_text: '{original_text}'\\n\"\n",
        "    Translated Text: '{translated_text}'\\n\"\n",
        "    \"\"\"\n",
        "\n",
        "    chat_completion = client.chat.completions.create(\n",
        "        messages=[\n",
        "            {\"role\": \"system\", \"content\": system_prompt},\n",
        "            {\"role\": \"user\", \"content\": user_prompt}\n",
        "        ],\n",
        "        model= llama3_bB_8192,\n",
        "        max_tokens=1000,\n",
        "        # temperature=temperature  # Remove this line as 'temperature' is not defined in this function\n",
        "    )\n",
        "    return chat_completion.choices[0].message.content.strip()\n",
        "    #    return self_assessment  # Remove this line as it's unreachable and 'self_assessment' is not defined\n",
        "\n",
        "\n",
        "def resolve_self_assessment(original_text, translated_text, self_assessment):\n",
        "    system_prompt = \"\"\"You are translation Self-Assessment resovler agent. Your task is to:\n",
        "    1. Rsolve the Self-Assessment.\n",
        "    \"\"\"\n",
        "\n",
        "    user_prompt = f\"\"\"original_text: '{original_text}'\\n\"\n",
        "    Translated Text: '{translated_text}'\\n\"\n",
        "    \"Self-Assessment: '{self_assessment}'\\n\"\n",
        "    \"\"\"\n",
        "\n",
        "    chat_completion = client.chat.completions.create(\n",
        "        messages=[\n",
        "            {\"role\": \"system\", \"content\": system_prompt},\n",
        "            {\"role\": \"user\", \"content\": user_prompt}\n",
        "        ],\n",
        "        model= llama3_bB_8192,\n",
        "        max_tokens=1000,\n",
        "        # temperature=temperature  # Remove this line as 'temperature' is not defined in this function\n",
        "    )\n",
        "    return chat_completion.choices[0].message.content.strip()"
      ],
      "metadata": {
        "collapsed": true,
        "id": "7Ev8T0gXEk9y"
      },
      "execution_count": 98,
      "outputs": []
    },
    {
      "cell_type": "code",
      "source": [
        "def main():\n",
        "    text = \"Break a leg!\"\n",
        "    source_lang = \"English\"\n",
        "    target_lang = \"عربي\"\n",
        "\n",
        "    translated_text = translate_text(text,source_lang, target_lang) # Use target_lang instead of target_language\n",
        "    print(\"Translated Text:\", translated_text)\n",
        "\n",
        "    self_assessment = self_assess_translation(text, translated_text, target_lang)\n",
        "    print(\"Self-Assessment:\", self_assessment)\n",
        "\n",
        "    resolved_translation = resolve_self_assessment(text, translated_text, self_assessment)\n",
        "    print(\"Resolved Translation:\", resolved_translation)\n",
        "\n",
        "main()"
      ],
      "metadata": {
        "id": "VCZgMWy3Eqla",
        "outputId": "0431c556-e1cd-445a-ba9a-3bb666d3eba6",
        "colab": {
          "base_uri": "https://localhost:8080/",
          "height": 0
        }
      },
      "execution_count": 99,
      "outputs": [
        {
          "output_type": "stream",
          "name": "stdout",
          "text": [
            "Translated Text: Here's the translation:\n",
            "\n",
            "**Translation:** كلّ الحظّ السعيد! (Kul al-ḥaẓ al-saʿīd!)\n",
            "\n",
            "**Explanation:** The idiomatic expression \"Break a leg!\" is a well-known English phrase used to wish someone good luck, especially before a performance or a challenging situation. In Arabic, the literal translation of \"Break a leg!\" doesn't convey the same meaning, so a more culturally equivalent expression is needed.\n",
            "\n",
            "The chosen translation, كلّ الحظّ السعيد! (Kul al-ḥaẓ al-saʿīd!), is a common Arabic phrase that conveys a similar sentiment. It literally means \"All the best luck!\" or \"Good luck in everything!\" This phrase is widely used in Arabic-speaking cultures to express good wishes and support before an important event or undertaking.\n",
            "\n",
            "In Arabic culture, it's common to use phrases that invoke blessings and good fortune, rather than literal expressions that might be perceived as negative or violent (like \"Break a leg!\"). This translation choice ensures that the cultural nuance and intent behind the original phrase are preserved, while still being faithful to the Arabic language and cultural context.\n",
            "Self-Assessment: Assessment:\n",
            "\n",
            "The translation provided, كلّ الحظّ السعيد! (Kul al-ḥaẓ al-saʿīd!), is a good equivalent of the idiomatic expression \"Break a leg!\" in Arabic. The translator has provided a clear explanation of the cultural nuances behind the original phrase and the chosen translation.\n",
            "\n",
            "Potential doubts or areas of uncertainty:\n",
            "\n",
            "1. Although the translator has provided a culturally equivalent expression, it's worth considering if the Arabic phrase كلّ الحظّ السعيد! is commonly used in all Arabic-speaking cultures and dialects. It's possible that different regions or dialects might have their own specific expressions to convey good luck.\n",
            "\n",
            "To mitigate this uncertainty, it would be helpful to verify the usage of كلّ الحظّ السعيد! across various Arabic-speaking cultures and dialects to ensure that it's a universally accepted expression.\n",
            "\n",
            "2. The translator has mentioned that Arabic culture tends to use phrases that invoke blessings and good fortune, rather than literal expressions that might be perceived as negative or violent. It might be useful to explore if there are any other Arabic expressions that could convey a similar sentiment to \"Break a leg!\" without being too literal.\n",
            "\n",
            "Overall, the translation seems to be of good quality, but further research and verification could help to increase confidence in the chosen translation.\n",
            "Resolved Translation: **Self-Assessment Resolver**\n",
            "\n",
            "After careful review, I have resolved the self-assessment as follows:\n",
            "\n",
            "**1. Potential doubt or area of uncertainty:**\n",
            "\n",
            "The concern raised is valid, but can be addressed with additional research. Upon further investigation, I found that كلّ الحظّ السعيد! (Kul al-ḥaẓ al-saʿīd!) is a widely accepted and commonly used phrase across various Arabic-speaking cultures and dialects to convey good luck. While regional differences may exist, this phrase is generally understood and used in many Arabic-speaking countries.\n",
            "\n",
            "**Resolution:** This concern can be mitigated by citing references or sources that confirm the widespread usage of كلّ الحظّ السعيد! across different Arabic-speaking cultures and dialects.\n",
            "\n",
            "**2. Potential doubt or area of uncertainty:**\n",
            "\n",
            "The suggestion to explore alternative Arabic expressions that convey a similar sentiment to \"Break a leg!\" is a good one. Further research reveals that there are other Arabic phrases that can be used to express good luck, such as \"توفيق لك!\" (Tawfiq lak!), which means \"Success to you!\" or \"نجاح لك!\" (Najah lak!), which means \"Good luck to you!\"\n",
            "\n",
            "**Resolution:** The translator can consider including these alternative expressions in the explanation to provide more context and options for the reader.\n",
            "\n",
            "**Overall Assessment:**\n",
            "\n",
            "The translation provided is of good quality, and the translator has done a good job of conveying the cultural nuances behind the original phrase and the chosen translation. With some additional research and verification, the uncertainty surrounding the universality of كلّ الحظّ السعيد! can be mitigated, and the translation can be further enhanced by including alternative expressions that convey a similar sentiment.\n"
          ]
        }
      ]
    }
  ]
}